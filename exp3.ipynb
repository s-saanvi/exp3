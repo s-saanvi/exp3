import pandas as pd
import seaborn as sns
import matplotlib.pyplot as plt
from sklearn.datasets import load_iris
from sklearn.decomposition import PCA
from sklearn.preprocessing import StandardScaler

iris = load_iris()
data = pd.DataFrame(iris.data, columns=iris.feature_names)
data['species'] = iris.target

print("iris dataset overview")
print(data.head())

scaled = StandardScaler().fit_transform(data.iloc[:, :-1])

pca = PCA(n_components=2).fit_transform(scaled)

pca_df = pd.DataFrame(pca, columns=['PC1', 'PC2'])

pca_df['species'] = data['species']

plt.figure(figsize=(10,7))
print("Explained variance ratio:", PCA(n_components=2).fit(scaled).explained_variance_ratio_)
sns.scatterplot(data=pca_df, x='PC1', y='PC2', hue='species', palette='Set1', s=100)
plt.title('PCA on Iris Dataset'), plt.grid(alpha=0.3), plt.legend(title='Species')
plt.show()
