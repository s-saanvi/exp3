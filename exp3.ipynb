import pandas as pd
import seaborn as sns
import matplotlib.pyplot as plt
from sklearn.datasets import load_iris
from sklearn.decomposition import PCA
from sklearn.preprocessing import StandardScaler
iris = load_iris()
X = StandardScaler().fit_transform(iris.data)
pca = PCA(n_components=2)
X_pca = pca.fit_transform(X)
df = pd.DataFrame(X_pca, columns=['PC1', 'PC2'])
df['species'] = iris.target
print(df.head())
plt.figure(figsize=(10,7))
print("Explained variance ratio:", pca.explained_variance_ratio_)
sns.scatterplot(data=df, x='PC1', y='PC2', hue='species', palette='Set1', s=100)
plt.title('PCA on Iris Dataset'), plt.grid(alpha=0.3), plt.legend(title='Species')
plt.show()
